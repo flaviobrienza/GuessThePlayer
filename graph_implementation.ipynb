{
 "cells": [
  {
   "cell_type": "markdown",
   "metadata": {},
   "source": [
    "# App Implementation"
   ]
  },
  {
   "cell_type": "markdown",
   "metadata": {},
   "source": [
    "# Importing Libraries and Credentials"
   ]
  },
  {
   "cell_type": "code",
   "execution_count": 3,
   "metadata": {},
   "outputs": [],
   "source": [
    "from neo4j import GraphDatabase\n",
    "from graphdatascience import GraphDataScience\n",
    "import numpy as np\n",
    "import pandas as pd\n",
    "\n",
    "from creds import user, pwd, uri, user_local, pwd_local, local_uri\n",
    "\n",
    "import warnings \n",
    "warnings.simplefilter('ignore')"
   ]
  },
  {
   "cell_type": "markdown",
   "metadata": {},
   "source": [
    "# Driver Creation"
   ]
  },
  {
   "cell_type": "code",
   "execution_count": 2,
   "metadata": {},
   "outputs": [],
   "source": [
    "driver = GraphDatabase.driver( \n",
    "    uri=uri,\n",
    "    auth=(user,pwd) \n",
    ")"
   ]
  },
  {
   "cell_type": "markdown",
   "metadata": {},
   "source": [
    "Testing the connection"
   ]
  },
  {
   "cell_type": "code",
   "execution_count": 3,
   "metadata": {},
   "outputs": [],
   "source": [
    "test = driver.execute_query('''\n",
    "    match (p:Player {name:'Paulo Dybala'})-[:PLAYED_FOR]->(s)\n",
    "    return s.name\n",
    "''')"
   ]
  },
  {
   "cell_type": "code",
   "execution_count": 12,
   "metadata": {},
   "outputs": [
    {
     "data": {
      "text/plain": [
       "['Juventus', 'Juventus', 'Roma', 'Roma', 'Roma']"
      ]
     },
     "execution_count": 12,
     "metadata": {},
     "output_type": "execute_result"
    }
   ],
   "source": [
    "[r.data()['s.name'] for r in test[0]]"
   ]
  },
  {
   "cell_type": "markdown",
   "metadata": {},
   "source": [
    "# Similarity Algorithm  \n",
    "\n",
    "Running the Node Similarity algorithm from GDS to find how much two nodes are similar."
   ]
  },
  {
   "cell_type": "markdown",
   "metadata": {},
   "source": [
    "### Native Projection Creation  \n",
    "\n",
    "The projection will be created with the GDS python library"
   ]
  },
  {
   "cell_type": "code",
   "execution_count": 4,
   "metadata": {},
   "outputs": [],
   "source": [
    "gds = GraphDataScience( \n",
    "    endpoint=local_uri,\n",
    "    auth=(user_local,pwd_local)\n",
    ")\n",
    "\n",
    "driver_local = GraphDatabase.driver( \n",
    "    uri=local_uri,\n",
    "    auth=(user_local,pwd_local) \n",
    ")"
   ]
  },
  {
   "cell_type": "markdown",
   "metadata": {},
   "source": [
    "Test for local driver connection"
   ]
  },
  {
   "cell_type": "code",
   "execution_count": 10,
   "metadata": {},
   "outputs": [],
   "source": [
    "dybala_teams = driver_local.execute_query('''\n",
    "match (p:Player {name:'Paulo Dybala'})-[:PLAYED_FOR]-(o)\n",
    "return o.name\n",
    "''')"
   ]
  },
  {
   "cell_type": "code",
   "execution_count": 21,
   "metadata": {},
   "outputs": [
    {
     "data": {
      "text/plain": [
       "['Juventus', 'Juventus', 'Roma', 'Roma', 'Roma']"
      ]
     },
     "execution_count": 21,
     "metadata": {},
     "output_type": "execute_result"
    }
   ],
   "source": [
    "[team.values()[0] for team in dybala_teams.records]"
   ]
  },
  {
   "cell_type": "markdown",
   "metadata": {},
   "source": [
    "## Using the algorithm"
   ]
  },
  {
   "cell_type": "markdown",
   "metadata": {},
   "source": [
    "### Creating the Projection"
   ]
  },
  {
   "cell_type": "code",
   "execution_count": 42,
   "metadata": {},
   "outputs": [],
   "source": [
    "# Getting all node labels and relationship types\n",
    "\n",
    "labels = driver_local.execute_query('''\n",
    "match (n)\n",
    "return distinct(labels(n))\n",
    "''')\n",
    "\n",
    "relationships = driver_local.execute_query('''\n",
    "match ()-[r]-()\n",
    "return distinct(type(r))\n",
    "''')"
   ]
  },
  {
   "cell_type": "code",
   "execution_count": 49,
   "metadata": {},
   "outputs": [],
   "source": [
    "# Putting values in a list\n",
    "lab_values = [l.value()[0] for l in labels.records] \n",
    "rel_values = [r.value() for r in relationships.records]"
   ]
  },
  {
   "cell_type": "code",
   "execution_count": 51,
   "metadata": {},
   "outputs": [
    {
     "name": "stdout",
     "output_type": "stream",
     "text": [
      "Node labels: ['Player', 'Nation', 'Position', 'Team_2020_2021', 'Team_2021_2022', 'Team_2022_2023', 'Team_2023_2024', 'Team_2024_2025']\n",
      "Relationship types: ['IS_NATION', 'POSITION_PLAYED', 'PLAYED_FOR']\n"
     ]
    }
   ],
   "source": [
    "print(f\"Node labels: {lab_values}\\nRelationship types: {rel_values}\")"
   ]
  },
  {
   "cell_type": "code",
   "execution_count": 52,
   "metadata": {},
   "outputs": [],
   "source": [
    "# Creating the projection\n",
    "G = gds.graph.project(\n",
    "    graph_name='guesstheplayergame',\n",
    "    node_spec=lab_values,  \n",
    "    relationship_spec=rel_values)"
   ]
  },
  {
   "cell_type": "code",
   "execution_count": 64,
   "metadata": {},
   "outputs": [],
   "source": [
    "# Creating the graph object\n",
    "graph = gds.graph.get('guesstheplayergame')"
   ]
  },
  {
   "cell_type": "code",
   "execution_count": 99,
   "metadata": {},
   "outputs": [],
   "source": [
    "result = gds.nodeSimilarity.stream(graph, similarityCutoff=0, topK=int(1e6))"
   ]
  },
  {
   "cell_type": "markdown",
   "metadata": {},
   "source": [
    "Results are provided as node ids. They will be converted into player name."
   ]
  },
  {
   "cell_type": "code",
   "execution_count": 107,
   "metadata": {},
   "outputs": [],
   "source": [
    "cr7 = gds.util.asNode(0)"
   ]
  },
  {
   "cell_type": "code",
   "execution_count": 108,
   "metadata": {},
   "outputs": [
    {
     "data": {
      "text/plain": [
       "'Cristiano Ronaldo'"
      ]
     },
     "execution_count": 108,
     "metadata": {},
     "output_type": "execute_result"
    }
   ],
   "source": [
    "list(cr7.values())[0]"
   ]
  },
  {
   "cell_type": "markdown",
   "metadata": {},
   "source": [
    "Getting players names"
   ]
  },
  {
   "cell_type": "code",
   "execution_count": 113,
   "metadata": {},
   "outputs": [],
   "source": [
    "player_id = list(result.node1.unique())"
   ]
  },
  {
   "cell_type": "code",
   "execution_count": 115,
   "metadata": {},
   "outputs": [],
   "source": [
    "player_names = gds.util.asNodes(player_id)"
   ]
  },
  {
   "cell_type": "code",
   "execution_count": 121,
   "metadata": {},
   "outputs": [
    {
     "data": {
      "text/plain": [
       "['Cristiano Ronaldo', 1]"
      ]
     },
     "execution_count": 121,
     "metadata": {},
     "output_type": "execute_result"
    }
   ],
   "source": [
    "list(player_names[0].values())[0]"
   ]
  },
  {
   "cell_type": "code",
   "execution_count": 122,
   "metadata": {},
   "outputs": [],
   "source": [
    "# Mapping\n",
    "map_dict = {}\n",
    "\n",
    "for id, name in zip(player_id, player_names):\n",
    "    map_dict[id] = list(name.values())[0]"
   ]
  },
  {
   "cell_type": "code",
   "execution_count": 125,
   "metadata": {},
   "outputs": [
    {
     "data": {
      "text/plain": [
       "0          Cristiano Ronaldo\n",
       "1          Cristiano Ronaldo\n",
       "2          Cristiano Ronaldo\n",
       "3          Cristiano Ronaldo\n",
       "4          Cristiano Ronaldo\n",
       "                 ...        \n",
       "1384147           Paul Pogba\n",
       "1384148           Paul Pogba\n",
       "1384149           Paul Pogba\n",
       "1384150           Paul Pogba\n",
       "1384151           Paul Pogba\n",
       "Name: node1, Length: 1384152, dtype: object"
      ]
     },
     "execution_count": 125,
     "metadata": {},
     "output_type": "execute_result"
    }
   ],
   "source": [
    "result.node1.map(map_dict)"
   ]
  },
  {
   "cell_type": "code",
   "execution_count": 126,
   "metadata": {},
   "outputs": [],
   "source": [
    "# Adding columns to the df\n",
    "result['node1_name'] = result.node1.map(map_dict) \n",
    "result['node2_name'] = result.node2.map(map_dict)"
   ]
  },
  {
   "cell_type": "code",
   "execution_count": 127,
   "metadata": {},
   "outputs": [
    {
     "data": {
      "text/html": [
       "<div>\n",
       "<style scoped>\n",
       "    .dataframe tbody tr th:only-of-type {\n",
       "        vertical-align: middle;\n",
       "    }\n",
       "\n",
       "    .dataframe tbody tr th {\n",
       "        vertical-align: top;\n",
       "    }\n",
       "\n",
       "    .dataframe thead th {\n",
       "        text-align: right;\n",
       "    }\n",
       "</style>\n",
       "<table border=\"1\" class=\"dataframe\">\n",
       "  <thead>\n",
       "    <tr style=\"text-align: right;\">\n",
       "      <th></th>\n",
       "      <th>node1</th>\n",
       "      <th>node2</th>\n",
       "      <th>similarity</th>\n",
       "      <th>node1_name</th>\n",
       "      <th>node2_name</th>\n",
       "    </tr>\n",
       "  </thead>\n",
       "  <tbody>\n",
       "    <tr>\n",
       "      <th>0</th>\n",
       "      <td>0</td>\n",
       "      <td>769</td>\n",
       "      <td>0.500000</td>\n",
       "      <td>Cristiano Ronaldo</td>\n",
       "      <td>Francisco Conceição</td>\n",
       "    </tr>\n",
       "    <tr>\n",
       "      <th>1</th>\n",
       "      <td>0</td>\n",
       "      <td>468</td>\n",
       "      <td>0.400000</td>\n",
       "      <td>Cristiano Ronaldo</td>\n",
       "      <td>João Moutinho</td>\n",
       "    </tr>\n",
       "    <tr>\n",
       "      <th>2</th>\n",
       "      <td>0</td>\n",
       "      <td>585</td>\n",
       "      <td>0.400000</td>\n",
       "      <td>Cristiano Ronaldo</td>\n",
       "      <td>Rúben Vinagre</td>\n",
       "    </tr>\n",
       "    <tr>\n",
       "      <th>3</th>\n",
       "      <td>0</td>\n",
       "      <td>263</td>\n",
       "      <td>0.400000</td>\n",
       "      <td>Cristiano Ronaldo</td>\n",
       "      <td>Nani</td>\n",
       "    </tr>\n",
       "    <tr>\n",
       "      <th>4</th>\n",
       "      <td>0</td>\n",
       "      <td>200</td>\n",
       "      <td>0.333333</td>\n",
       "      <td>Cristiano Ronaldo</td>\n",
       "      <td>Dejan Kulusevski</td>\n",
       "    </tr>\n",
       "    <tr>\n",
       "      <th>...</th>\n",
       "      <td>...</td>\n",
       "      <td>...</td>\n",
       "      <td>...</td>\n",
       "      <td>...</td>\n",
       "      <td>...</td>\n",
       "    </tr>\n",
       "    <tr>\n",
       "      <th>1384147</th>\n",
       "      <td>1176</td>\n",
       "      <td>15</td>\n",
       "      <td>0.000000</td>\n",
       "      <td>Paul Pogba</td>\n",
       "      <td>Nicolas Nkoulou</td>\n",
       "    </tr>\n",
       "    <tr>\n",
       "      <th>1384148</th>\n",
       "      <td>1176</td>\n",
       "      <td>8</td>\n",
       "      <td>0.000000</td>\n",
       "      <td>Paul Pogba</td>\n",
       "      <td>Mateo Musacchio</td>\n",
       "    </tr>\n",
       "    <tr>\n",
       "      <th>1384149</th>\n",
       "      <td>1176</td>\n",
       "      <td>7</td>\n",
       "      <td>0.000000</td>\n",
       "      <td>Paul Pogba</td>\n",
       "      <td>Ashley Young</td>\n",
       "    </tr>\n",
       "    <tr>\n",
       "      <th>1384150</th>\n",
       "      <td>1176</td>\n",
       "      <td>5</td>\n",
       "      <td>0.000000</td>\n",
       "      <td>Paul Pogba</td>\n",
       "      <td>Achraf Hakimi</td>\n",
       "    </tr>\n",
       "    <tr>\n",
       "      <th>1384151</th>\n",
       "      <td>1176</td>\n",
       "      <td>1</td>\n",
       "      <td>0.000000</td>\n",
       "      <td>Paul Pogba</td>\n",
       "      <td>Gianluigi Donnarumma</td>\n",
       "    </tr>\n",
       "  </tbody>\n",
       "</table>\n",
       "<p>1384152 rows × 5 columns</p>\n",
       "</div>"
      ],
      "text/plain": [
       "         node1  node2  similarity         node1_name            node2_name\n",
       "0            0    769    0.500000  Cristiano Ronaldo   Francisco Conceição\n",
       "1            0    468    0.400000  Cristiano Ronaldo         João Moutinho\n",
       "2            0    585    0.400000  Cristiano Ronaldo         Rúben Vinagre\n",
       "3            0    263    0.400000  Cristiano Ronaldo                  Nani\n",
       "4            0    200    0.333333  Cristiano Ronaldo      Dejan Kulusevski\n",
       "...        ...    ...         ...                ...                   ...\n",
       "1384147   1176     15    0.000000         Paul Pogba       Nicolas Nkoulou\n",
       "1384148   1176      8    0.000000         Paul Pogba       Mateo Musacchio\n",
       "1384149   1176      7    0.000000         Paul Pogba          Ashley Young\n",
       "1384150   1176      5    0.000000         Paul Pogba         Achraf Hakimi\n",
       "1384151   1176      1    0.000000         Paul Pogba  Gianluigi Donnarumma\n",
       "\n",
       "[1384152 rows x 5 columns]"
      ]
     },
     "execution_count": 127,
     "metadata": {},
     "output_type": "execute_result"
    }
   ],
   "source": [
    "result"
   ]
  },
  {
   "cell_type": "markdown",
   "metadata": {},
   "source": [
    "The last steps include: rounding to three decimals and computing -0.001 in order not to have similarity = 1 for two players."
   ]
  },
  {
   "cell_type": "code",
   "execution_count": 132,
   "metadata": {},
   "outputs": [],
   "source": [
    "result['rounded_similarity'] = np.round(result.similarity,3).apply(lambda x: x-.001 if x > 0 else(x))"
   ]
  },
  {
   "cell_type": "markdown",
   "metadata": {},
   "source": [
    "Storing results"
   ]
  },
  {
   "cell_type": "code",
   "execution_count": 135,
   "metadata": {},
   "outputs": [],
   "source": [
    "result.to_csv('similarity_scores.csv', index=None)"
   ]
  },
  {
   "cell_type": "markdown",
   "metadata": {},
   "source": [
    "Sampling a random player"
   ]
  },
  {
   "cell_type": "code",
   "execution_count": 4,
   "metadata": {},
   "outputs": [],
   "source": [
    "df = pd.read_csv('similarity_scores.csv')"
   ]
  },
  {
   "cell_type": "code",
   "execution_count": 12,
   "metadata": {},
   "outputs": [
    {
     "data": {
      "text/plain": [
       "'Remo Freuler'"
      ]
     },
     "execution_count": 12,
     "metadata": {},
     "output_type": "execute_result"
    }
   ],
   "source": [
    "df.node1_name.sample(1).values[0]"
   ]
  },
  {
   "cell_type": "markdown",
   "metadata": {},
   "source": [
    "Getting similarity values"
   ]
  },
  {
   "cell_type": "code",
   "execution_count": 21,
   "metadata": {},
   "outputs": [
    {
     "data": {
      "text/plain": [
       "0.076"
      ]
     },
     "execution_count": 21,
     "metadata": {},
     "output_type": "execute_result"
    }
   ],
   "source": [
    "df[(df.node1_name == 'Remo Freuler') & (df.node2_name == 'Paulo Dybala')].rounded_similarity.values[0]"
   ]
  },
  {
   "cell_type": "code",
   "execution_count": 27,
   "metadata": {},
   "outputs": [
    {
     "data": {
      "text/plain": [
       "0.499"
      ]
     },
     "execution_count": 27,
     "metadata": {},
     "output_type": "execute_result"
    }
   ],
   "source": [
    "df.query(\"node1_name == 'Matías Viña'\").rounded_similarity.max()"
   ]
  },
  {
   "cell_type": "markdown",
   "metadata": {},
   "source": [
    "Many players have small values as their max value. I should use the Min Max Scaler formula to normalize them."
   ]
  },
  {
   "cell_type": "code",
   "execution_count": 29,
   "metadata": {},
   "outputs": [
    {
     "data": {
      "text/html": [
       "<div>\n",
       "<style scoped>\n",
       "    .dataframe tbody tr th:only-of-type {\n",
       "        vertical-align: middle;\n",
       "    }\n",
       "\n",
       "    .dataframe tbody tr th {\n",
       "        vertical-align: top;\n",
       "    }\n",
       "\n",
       "    .dataframe thead th {\n",
       "        text-align: right;\n",
       "    }\n",
       "</style>\n",
       "<table border=\"1\" class=\"dataframe\">\n",
       "  <thead>\n",
       "    <tr style=\"text-align: right;\">\n",
       "      <th></th>\n",
       "      <th>node1_name</th>\n",
       "      <th>min</th>\n",
       "      <th>max</th>\n",
       "    </tr>\n",
       "  </thead>\n",
       "  <tbody>\n",
       "    <tr>\n",
       "      <th>0</th>\n",
       "      <td>Aaron Hickey</td>\n",
       "      <td>0.0</td>\n",
       "      <td>0.600000</td>\n",
       "    </tr>\n",
       "    <tr>\n",
       "      <th>1</th>\n",
       "      <td>Aaron Ramsey</td>\n",
       "      <td>0.0</td>\n",
       "      <td>0.500000</td>\n",
       "    </tr>\n",
       "    <tr>\n",
       "      <th>2</th>\n",
       "      <td>Aarón Martín</td>\n",
       "      <td>0.0</td>\n",
       "      <td>0.600000</td>\n",
       "    </tr>\n",
       "    <tr>\n",
       "      <th>3</th>\n",
       "      <td>Abdelhamid Sabiri</td>\n",
       "      <td>0.0</td>\n",
       "      <td>0.444444</td>\n",
       "    </tr>\n",
       "    <tr>\n",
       "      <th>4</th>\n",
       "      <td>Abdou Harroui</td>\n",
       "      <td>0.0</td>\n",
       "      <td>0.400000</td>\n",
       "    </tr>\n",
       "    <tr>\n",
       "      <th>...</th>\n",
       "      <td>...</td>\n",
       "      <td>...</td>\n",
       "      <td>...</td>\n",
       "    </tr>\n",
       "    <tr>\n",
       "      <th>1172</th>\n",
       "      <td>Ángel Di María</td>\n",
       "      <td>0.0</td>\n",
       "      <td>0.600000</td>\n",
       "    </tr>\n",
       "    <tr>\n",
       "      <th>1173</th>\n",
       "      <td>Éderson</td>\n",
       "      <td>0.0</td>\n",
       "      <td>0.571429</td>\n",
       "    </tr>\n",
       "    <tr>\n",
       "      <th>1174</th>\n",
       "      <td>Þórir Jóhann Helgason</td>\n",
       "      <td>0.0</td>\n",
       "      <td>0.571429</td>\n",
       "    </tr>\n",
       "    <tr>\n",
       "      <th>1175</th>\n",
       "      <td>Łukasz Skorupski</td>\n",
       "      <td>0.0</td>\n",
       "      <td>0.625000</td>\n",
       "    </tr>\n",
       "    <tr>\n",
       "      <th>1176</th>\n",
       "      <td>Ștefan Radu</td>\n",
       "      <td>0.0</td>\n",
       "      <td>0.500000</td>\n",
       "    </tr>\n",
       "  </tbody>\n",
       "</table>\n",
       "<p>1177 rows × 3 columns</p>\n",
       "</div>"
      ],
      "text/plain": [
       "                 node1_name  min       max\n",
       "0              Aaron Hickey  0.0  0.600000\n",
       "1              Aaron Ramsey  0.0  0.500000\n",
       "2              Aarón Martín  0.0  0.600000\n",
       "3         Abdelhamid Sabiri  0.0  0.444444\n",
       "4             Abdou Harroui  0.0  0.400000\n",
       "...                     ...  ...       ...\n",
       "1172         Ángel Di María  0.0  0.600000\n",
       "1173                Éderson  0.0  0.571429\n",
       "1174  Þórir Jóhann Helgason  0.0  0.571429\n",
       "1175       Łukasz Skorupski  0.0  0.625000\n",
       "1176            Ștefan Radu  0.0  0.500000\n",
       "\n",
       "[1177 rows x 3 columns]"
      ]
     },
     "execution_count": 29,
     "metadata": {},
     "output_type": "execute_result"
    }
   ],
   "source": [
    "df.groupby('node1_name', as_index=False).similarity.agg(['min', 'max'])"
   ]
  },
  {
   "cell_type": "code",
   "execution_count": 38,
   "metadata": {},
   "outputs": [],
   "source": [
    "ederson = df[df.node1_name == 'Éderson']\n",
    "\n",
    "ederson['min_max_scaled_similarity'] = (ederson.rounded_similarity-ederson.rounded_similarity.min())/(ederson.rounded_similarity.max()-ederson.rounded_similarity.min())\n",
    "ederson['min_max_scaled_similarity_rounded'] = ederson.min_max_scaled_similarity.apply(\n",
    "    lambda x: np.round(x,3)-.001 if x>0 else(0))"
   ]
  },
  {
   "cell_type": "code",
   "execution_count": 39,
   "metadata": {},
   "outputs": [
    {
     "data": {
      "text/html": [
       "<div>\n",
       "<style scoped>\n",
       "    .dataframe tbody tr th:only-of-type {\n",
       "        vertical-align: middle;\n",
       "    }\n",
       "\n",
       "    .dataframe tbody tr th {\n",
       "        vertical-align: top;\n",
       "    }\n",
       "\n",
       "    .dataframe thead th {\n",
       "        text-align: right;\n",
       "    }\n",
       "</style>\n",
       "<table border=\"1\" class=\"dataframe\">\n",
       "  <thead>\n",
       "    <tr style=\"text-align: right;\">\n",
       "      <th></th>\n",
       "      <th>node1</th>\n",
       "      <th>node2</th>\n",
       "      <th>similarity</th>\n",
       "      <th>node1_name</th>\n",
       "      <th>node2_name</th>\n",
       "      <th>rounded_similarity</th>\n",
       "      <th>min_max_scaled_similarity</th>\n",
       "      <th>min_max_scaled_similarity_rounded</th>\n",
       "    </tr>\n",
       "  </thead>\n",
       "  <tbody>\n",
       "    <tr>\n",
       "      <th>994896</th>\n",
       "      <td>846</td>\n",
       "      <td>857</td>\n",
       "      <td>0.571429</td>\n",
       "      <td>Éderson</td>\n",
       "      <td>Ademola Lookman</td>\n",
       "      <td>0.570</td>\n",
       "      <td>1.000000</td>\n",
       "      <td>0.999</td>\n",
       "    </tr>\n",
       "    <tr>\n",
       "      <th>994897</th>\n",
       "      <td>846</td>\n",
       "      <td>1012</td>\n",
       "      <td>0.500000</td>\n",
       "      <td>Éderson</td>\n",
       "      <td>Matteo Ruggeri</td>\n",
       "      <td>0.499</td>\n",
       "      <td>0.875439</td>\n",
       "      <td>0.874</td>\n",
       "    </tr>\n",
       "    <tr>\n",
       "      <th>994898</th>\n",
       "      <td>846</td>\n",
       "      <td>903</td>\n",
       "      <td>0.444444</td>\n",
       "      <td>Éderson</td>\n",
       "      <td>Marten de Roon</td>\n",
       "      <td>0.443</td>\n",
       "      <td>0.777193</td>\n",
       "      <td>0.776</td>\n",
       "    </tr>\n",
       "    <tr>\n",
       "      <th>994899</th>\n",
       "      <td>846</td>\n",
       "      <td>902</td>\n",
       "      <td>0.444444</td>\n",
       "      <td>Éderson</td>\n",
       "      <td>Mario Pašalić</td>\n",
       "      <td>0.443</td>\n",
       "      <td>0.777193</td>\n",
       "      <td>0.776</td>\n",
       "    </tr>\n",
       "    <tr>\n",
       "      <th>994900</th>\n",
       "      <td>846</td>\n",
       "      <td>1086</td>\n",
       "      <td>0.428571</td>\n",
       "      <td>Éderson</td>\n",
       "      <td>Giorgio Scalvini</td>\n",
       "      <td>0.428</td>\n",
       "      <td>0.750877</td>\n",
       "      <td>0.750</td>\n",
       "    </tr>\n",
       "    <tr>\n",
       "      <th>...</th>\n",
       "      <td>...</td>\n",
       "      <td>...</td>\n",
       "      <td>...</td>\n",
       "      <td>...</td>\n",
       "      <td>...</td>\n",
       "      <td>...</td>\n",
       "      <td>...</td>\n",
       "      <td>...</td>\n",
       "    </tr>\n",
       "    <tr>\n",
       "      <th>996067</th>\n",
       "      <td>846</td>\n",
       "      <td>7</td>\n",
       "      <td>0.000000</td>\n",
       "      <td>Éderson</td>\n",
       "      <td>Ashley Young</td>\n",
       "      <td>0.000</td>\n",
       "      <td>0.000000</td>\n",
       "      <td>0.000</td>\n",
       "    </tr>\n",
       "    <tr>\n",
       "      <th>996068</th>\n",
       "      <td>846</td>\n",
       "      <td>5</td>\n",
       "      <td>0.000000</td>\n",
       "      <td>Éderson</td>\n",
       "      <td>Achraf Hakimi</td>\n",
       "      <td>0.000</td>\n",
       "      <td>0.000000</td>\n",
       "      <td>0.000</td>\n",
       "    </tr>\n",
       "    <tr>\n",
       "      <th>996069</th>\n",
       "      <td>846</td>\n",
       "      <td>2</td>\n",
       "      <td>0.000000</td>\n",
       "      <td>Éderson</td>\n",
       "      <td>Sami Khedira</td>\n",
       "      <td>0.000</td>\n",
       "      <td>0.000000</td>\n",
       "      <td>0.000</td>\n",
       "    </tr>\n",
       "    <tr>\n",
       "      <th>996070</th>\n",
       "      <td>846</td>\n",
       "      <td>1</td>\n",
       "      <td>0.000000</td>\n",
       "      <td>Éderson</td>\n",
       "      <td>Gianluigi Donnarumma</td>\n",
       "      <td>0.000</td>\n",
       "      <td>0.000000</td>\n",
       "      <td>0.000</td>\n",
       "    </tr>\n",
       "    <tr>\n",
       "      <th>996071</th>\n",
       "      <td>846</td>\n",
       "      <td>0</td>\n",
       "      <td>0.000000</td>\n",
       "      <td>Éderson</td>\n",
       "      <td>Cristiano Ronaldo</td>\n",
       "      <td>0.000</td>\n",
       "      <td>0.000000</td>\n",
       "      <td>0.000</td>\n",
       "    </tr>\n",
       "  </tbody>\n",
       "</table>\n",
       "<p>1176 rows × 8 columns</p>\n",
       "</div>"
      ],
      "text/plain": [
       "        node1  node2  similarity node1_name            node2_name  \\\n",
       "994896    846    857    0.571429    Éderson       Ademola Lookman   \n",
       "994897    846   1012    0.500000    Éderson        Matteo Ruggeri   \n",
       "994898    846    903    0.444444    Éderson        Marten de Roon   \n",
       "994899    846    902    0.444444    Éderson         Mario Pašalić   \n",
       "994900    846   1086    0.428571    Éderson      Giorgio Scalvini   \n",
       "...       ...    ...         ...        ...                   ...   \n",
       "996067    846      7    0.000000    Éderson          Ashley Young   \n",
       "996068    846      5    0.000000    Éderson         Achraf Hakimi   \n",
       "996069    846      2    0.000000    Éderson          Sami Khedira   \n",
       "996070    846      1    0.000000    Éderson  Gianluigi Donnarumma   \n",
       "996071    846      0    0.000000    Éderson     Cristiano Ronaldo   \n",
       "\n",
       "        rounded_similarity  min_max_scaled_similarity  \\\n",
       "994896               0.570                   1.000000   \n",
       "994897               0.499                   0.875439   \n",
       "994898               0.443                   0.777193   \n",
       "994899               0.443                   0.777193   \n",
       "994900               0.428                   0.750877   \n",
       "...                    ...                        ...   \n",
       "996067               0.000                   0.000000   \n",
       "996068               0.000                   0.000000   \n",
       "996069               0.000                   0.000000   \n",
       "996070               0.000                   0.000000   \n",
       "996071               0.000                   0.000000   \n",
       "\n",
       "        min_max_scaled_similarity_rounded  \n",
       "994896                              0.999  \n",
       "994897                              0.874  \n",
       "994898                              0.776  \n",
       "994899                              0.776  \n",
       "994900                              0.750  \n",
       "...                                   ...  \n",
       "996067                              0.000  \n",
       "996068                              0.000  \n",
       "996069                              0.000  \n",
       "996070                              0.000  \n",
       "996071                              0.000  \n",
       "\n",
       "[1176 rows x 8 columns]"
      ]
     },
     "execution_count": 39,
     "metadata": {},
     "output_type": "execute_result"
    }
   ],
   "source": [
    "ederson"
   ]
  },
  {
   "cell_type": "code",
   "execution_count": 41,
   "metadata": {},
   "outputs": [],
   "source": [
    "df['min_max_scaled'] = df.groupby('node1_name', as_index=False).similarity.transform(lambda x: (x-x.min())/(x.max()-x.min()))"
   ]
  },
  {
   "cell_type": "code",
   "execution_count": 43,
   "metadata": {},
   "outputs": [],
   "source": [
    "df['rounded_min_max_similarity'] = df.min_max_scaled.apply(lambda x: np.round(x,3)-.001 if x>0 else(0))"
   ]
  },
  {
   "cell_type": "code",
   "execution_count": 49,
   "metadata": {},
   "outputs": [
    {
     "data": {
      "text/html": [
       "<div>\n",
       "<style scoped>\n",
       "    .dataframe tbody tr th:only-of-type {\n",
       "        vertical-align: middle;\n",
       "    }\n",
       "\n",
       "    .dataframe tbody tr th {\n",
       "        vertical-align: top;\n",
       "    }\n",
       "\n",
       "    .dataframe thead th {\n",
       "        text-align: right;\n",
       "    }\n",
       "</style>\n",
       "<table border=\"1\" class=\"dataframe\">\n",
       "  <thead>\n",
       "    <tr style=\"text-align: right;\">\n",
       "      <th></th>\n",
       "      <th>node1_name</th>\n",
       "      <th>min</th>\n",
       "      <th>max</th>\n",
       "    </tr>\n",
       "  </thead>\n",
       "  <tbody>\n",
       "    <tr>\n",
       "      <th>0</th>\n",
       "      <td>Aaron Hickey</td>\n",
       "      <td>0.0</td>\n",
       "      <td>0.999</td>\n",
       "    </tr>\n",
       "    <tr>\n",
       "      <th>1</th>\n",
       "      <td>Aaron Ramsey</td>\n",
       "      <td>0.0</td>\n",
       "      <td>0.999</td>\n",
       "    </tr>\n",
       "    <tr>\n",
       "      <th>2</th>\n",
       "      <td>Aarón Martín</td>\n",
       "      <td>0.0</td>\n",
       "      <td>0.999</td>\n",
       "    </tr>\n",
       "    <tr>\n",
       "      <th>3</th>\n",
       "      <td>Abdelhamid Sabiri</td>\n",
       "      <td>0.0</td>\n",
       "      <td>0.999</td>\n",
       "    </tr>\n",
       "    <tr>\n",
       "      <th>4</th>\n",
       "      <td>Abdou Harroui</td>\n",
       "      <td>0.0</td>\n",
       "      <td>0.999</td>\n",
       "    </tr>\n",
       "    <tr>\n",
       "      <th>...</th>\n",
       "      <td>...</td>\n",
       "      <td>...</td>\n",
       "      <td>...</td>\n",
       "    </tr>\n",
       "    <tr>\n",
       "      <th>1172</th>\n",
       "      <td>Ángel Di María</td>\n",
       "      <td>0.0</td>\n",
       "      <td>0.999</td>\n",
       "    </tr>\n",
       "    <tr>\n",
       "      <th>1173</th>\n",
       "      <td>Éderson</td>\n",
       "      <td>0.0</td>\n",
       "      <td>0.999</td>\n",
       "    </tr>\n",
       "    <tr>\n",
       "      <th>1174</th>\n",
       "      <td>Þórir Jóhann Helgason</td>\n",
       "      <td>0.0</td>\n",
       "      <td>0.999</td>\n",
       "    </tr>\n",
       "    <tr>\n",
       "      <th>1175</th>\n",
       "      <td>Łukasz Skorupski</td>\n",
       "      <td>0.0</td>\n",
       "      <td>0.999</td>\n",
       "    </tr>\n",
       "    <tr>\n",
       "      <th>1176</th>\n",
       "      <td>Ștefan Radu</td>\n",
       "      <td>0.0</td>\n",
       "      <td>0.999</td>\n",
       "    </tr>\n",
       "  </tbody>\n",
       "</table>\n",
       "<p>1177 rows × 3 columns</p>\n",
       "</div>"
      ],
      "text/plain": [
       "                 node1_name  min    max\n",
       "0              Aaron Hickey  0.0  0.999\n",
       "1              Aaron Ramsey  0.0  0.999\n",
       "2              Aarón Martín  0.0  0.999\n",
       "3         Abdelhamid Sabiri  0.0  0.999\n",
       "4             Abdou Harroui  0.0  0.999\n",
       "...                     ...  ...    ...\n",
       "1172         Ángel Di María  0.0  0.999\n",
       "1173                Éderson  0.0  0.999\n",
       "1174  Þórir Jóhann Helgason  0.0  0.999\n",
       "1175       Łukasz Skorupski  0.0  0.999\n",
       "1176            Ștefan Radu  0.0  0.999\n",
       "\n",
       "[1177 rows x 3 columns]"
      ]
     },
     "execution_count": 49,
     "metadata": {},
     "output_type": "execute_result"
    }
   ],
   "source": [
    "df.groupby('node1_name', as_index=False).rounded_min_max_similarity.agg(['min', 'max'])"
   ]
  },
  {
   "cell_type": "markdown",
   "metadata": {},
   "source": [
    "Storing"
   ]
  },
  {
   "cell_type": "code",
   "execution_count": 57,
   "metadata": {},
   "outputs": [
    {
     "data": {
      "text/html": [
       "<div>\n",
       "<style scoped>\n",
       "    .dataframe tbody tr th:only-of-type {\n",
       "        vertical-align: middle;\n",
       "    }\n",
       "\n",
       "    .dataframe tbody tr th {\n",
       "        vertical-align: top;\n",
       "    }\n",
       "\n",
       "    .dataframe thead th {\n",
       "        text-align: right;\n",
       "    }\n",
       "</style>\n",
       "<table border=\"1\" class=\"dataframe\">\n",
       "  <thead>\n",
       "    <tr style=\"text-align: right;\">\n",
       "      <th></th>\n",
       "      <th>node1</th>\n",
       "      <th>node2</th>\n",
       "      <th>similarity</th>\n",
       "      <th>node1_name</th>\n",
       "      <th>node2_name</th>\n",
       "      <th>rounded_similarity</th>\n",
       "      <th>min_max_scaled</th>\n",
       "      <th>rounded_min_max_similarity</th>\n",
       "    </tr>\n",
       "  </thead>\n",
       "  <tbody>\n",
       "    <tr>\n",
       "      <th>866712</th>\n",
       "      <td>737</td>\n",
       "      <td>535</td>\n",
       "      <td>0.5</td>\n",
       "      <td>Tammy Abraham</td>\n",
       "      <td>Chris Smalling</td>\n",
       "      <td>0.499</td>\n",
       "      <td>1.0</td>\n",
       "      <td>0.999</td>\n",
       "    </tr>\n",
       "  </tbody>\n",
       "</table>\n",
       "</div>"
      ],
      "text/plain": [
       "        node1  node2  similarity     node1_name      node2_name  \\\n",
       "866712    737    535         0.5  Tammy Abraham  Chris Smalling   \n",
       "\n",
       "        rounded_similarity  min_max_scaled  rounded_min_max_similarity  \n",
       "866712               0.499             1.0                       0.999  "
      ]
     },
     "execution_count": 57,
     "metadata": {},
     "output_type": "execute_result"
    }
   ],
   "source": [
    "df.query(\"node1_name == 'Tammy Abraham'\").query('min_max_scaled == 1')"
   ]
  },
  {
   "cell_type": "code",
   "execution_count": 50,
   "metadata": {},
   "outputs": [],
   "source": [
    "df.to_csv('similarity_scores.csv', index=None)"
   ]
  }
 ],
 "metadata": {
  "kernelspec": {
   "display_name": "Python 3",
   "language": "python",
   "name": "python3"
  },
  "language_info": {
   "codemirror_mode": {
    "name": "ipython",
    "version": 3
   },
   "file_extension": ".py",
   "mimetype": "text/x-python",
   "name": "python",
   "nbconvert_exporter": "python",
   "pygments_lexer": "ipython3",
   "version": "3.10.2"
  }
 },
 "nbformat": 4,
 "nbformat_minor": 2
}
