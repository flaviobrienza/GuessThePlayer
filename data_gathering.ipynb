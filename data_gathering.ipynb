{
 "cells": [
  {
   "cell_type": "markdown",
   "metadata": {},
   "source": [
    "# Data  \n",
    "\n",
    "I will consider only five seasons:  \n",
    "\n",
    "2020-2021, 2021-2022, 2022-2023, 2023-2024, 2024-2025"
   ]
  },
  {
   "cell_type": "markdown",
   "metadata": {},
   "source": [
    "# Importing Libraries"
   ]
  },
  {
   "cell_type": "code",
   "execution_count": 1,
   "metadata": {},
   "outputs": [],
   "source": [
    "import pandas as pd\n",
    "import numpy as np\n",
    "import time\n",
    "\n",
    "import warnings\n",
    "warnings.simplefilter('ignore')"
   ]
  },
  {
   "cell_type": "markdown",
   "metadata": {},
   "source": [
    "# Importing Data   \n",
    "\n",
    "Data are imported from FBref. I import players' data from the wages table."
   ]
  },
  {
   "cell_type": "code",
   "execution_count": 10,
   "metadata": {},
   "outputs": [],
   "source": [
    "def get_players(season: str):\n",
    "    ''' \n",
    "    Function to get players' data\n",
    "    '''\n",
    "    return pd.read_html(f'https://fbref.com/en/comps/11/{season}/wages/{season}-Serie-A-Wages')[1]"
   ]
  },
  {
   "cell_type": "code",
   "execution_count": 11,
   "metadata": {},
   "outputs": [],
   "source": [
    "# Seasons to search\n",
    "seasons = ['2020-2021', '2021-2022', '2022-2023', '2023-2024', '2024-2025']"
   ]
  },
  {
   "cell_type": "code",
   "execution_count": 12,
   "metadata": {},
   "outputs": [],
   "source": [
    "# Starting a loop where the function is called for each season\n",
    "final_df = pd.DataFrame()\n",
    "\n",
    "for season in seasons:\n",
    "    time.sleep(60)\n",
    "    try: \n",
    "        int_df = get_players(season)\n",
    "        int_df['Season'] = season\n",
    "        final_df = pd.concat([final_df, int_df])\n",
    "    except:\n",
    "        print(f'{season} not found')\n"
   ]
  },
  {
   "cell_type": "markdown",
   "metadata": {},
   "source": [
    "# Data Preprocessing  \n",
    "\n",
    "Steps include:  \n",
    "\n",
    "1. Keep necessary columns only  \n",
    "2. Drop rows with null values  \n",
    "3. Create a new column \"squad_season\" = Squad + Season   \n",
    "4. Create a dataset with unique players  \n",
    "5. Create a dataset with teams and season  \n",
    "6. Create a relationship dataset  \n",
    "7. \"Clean\" the \"Nation\" column  \n",
    "8. Exploding \"Pos\" column"
   ]
  },
  {
   "cell_type": "code",
   "execution_count": 41,
   "metadata": {},
   "outputs": [],
   "source": [
    "cols = final_df.columns[1:-2].to_list()\n",
    "cols.append('Season')\n",
    "df = final_df[cols]"
   ]
  },
  {
   "cell_type": "code",
   "execution_count": 48,
   "metadata": {},
   "outputs": [
    {
     "data": {
      "text/html": [
       "<div>\n",
       "<style scoped>\n",
       "    .dataframe tbody tr th:only-of-type {\n",
       "        vertical-align: middle;\n",
       "    }\n",
       "\n",
       "    .dataframe tbody tr th {\n",
       "        vertical-align: top;\n",
       "    }\n",
       "\n",
       "    .dataframe thead th {\n",
       "        text-align: right;\n",
       "    }\n",
       "</style>\n",
       "<table border=\"1\" class=\"dataframe\">\n",
       "  <thead>\n",
       "    <tr style=\"text-align: right;\">\n",
       "      <th></th>\n",
       "      <th>Player</th>\n",
       "      <th>Nation</th>\n",
       "      <th>Pos</th>\n",
       "      <th>Squad</th>\n",
       "      <th>Age</th>\n",
       "      <th>Weekly Wages</th>\n",
       "      <th>Annual Wages</th>\n",
       "      <th>Season</th>\n",
       "    </tr>\n",
       "  </thead>\n",
       "  <tbody>\n",
       "    <tr>\n",
       "      <th>0</th>\n",
       "      <td>Cristiano Ronaldo</td>\n",
       "      <td>pt POR</td>\n",
       "      <td>FW</td>\n",
       "      <td>Juventus</td>\n",
       "      <td>35</td>\n",
       "      <td>€ 1,104,038 (£ 925,746, $1,125,139)</td>\n",
       "      <td>€ 57,410,000 (£ 48,138,766, $58,507,203)</td>\n",
       "      <td>2020-2021</td>\n",
       "    </tr>\n",
       "    <tr>\n",
       "      <th>1</th>\n",
       "      <td>Edin Džeko</td>\n",
       "      <td>ba BIH</td>\n",
       "      <td>FW</td>\n",
       "      <td>Roma</td>\n",
       "      <td>34</td>\n",
       "      <td>€ 267,115 (£ 223,978, $272,220)</td>\n",
       "      <td>€ 13,890,000 (£ 11,646,881, $14,155,462)</td>\n",
       "      <td>2020-2021</td>\n",
       "    </tr>\n",
       "    <tr>\n",
       "      <th>2</th>\n",
       "      <td>Paulo Dybala</td>\n",
       "      <td>ar ARG</td>\n",
       "      <td>FW</td>\n",
       "      <td>Juventus</td>\n",
       "      <td>26</td>\n",
       "      <td>€ 260,000 (£ 218,012, $264,969)</td>\n",
       "      <td>€ 13,520,000 (£ 11,336,633, $13,778,390)</td>\n",
       "      <td>2020-2021</td>\n",
       "    </tr>\n",
       "    <tr>\n",
       "      <th>3</th>\n",
       "      <td>Leonardo Bonucci</td>\n",
       "      <td>it ITA</td>\n",
       "      <td>DF</td>\n",
       "      <td>Juventus</td>\n",
       "      <td>33</td>\n",
       "      <td>€ 231,538 (£ 194,147, $235,964)</td>\n",
       "      <td>€ 12,040,000 (£ 10,095,641, $12,270,105)</td>\n",
       "      <td>2020-2021</td>\n",
       "    </tr>\n",
       "    <tr>\n",
       "      <th>4</th>\n",
       "      <td>Wojciech Szczęsny</td>\n",
       "      <td>pl POL</td>\n",
       "      <td>GK</td>\n",
       "      <td>Juventus</td>\n",
       "      <td>30</td>\n",
       "      <td>€ 231,538 (£ 194,147, $235,964)</td>\n",
       "      <td>€ 12,040,000 (£ 10,095,641, $12,270,105)</td>\n",
       "      <td>2020-2021</td>\n",
       "    </tr>\n",
       "    <tr>\n",
       "      <th>...</th>\n",
       "      <td>...</td>\n",
       "      <td>...</td>\n",
       "      <td>...</td>\n",
       "      <td>...</td>\n",
       "      <td>...</td>\n",
       "      <td>...</td>\n",
       "      <td>...</td>\n",
       "      <td>...</td>\n",
       "    </tr>\n",
       "    <tr>\n",
       "      <th>576</th>\n",
       "      <td>Dario Daka</td>\n",
       "      <td>NaN</td>\n",
       "      <td>RW</td>\n",
       "      <td>Lecce</td>\n",
       "      <td>20</td>\n",
       "      <td>€ 1,731 (£ 1,427, $1,822)</td>\n",
       "      <td>€ 90,000 (£ 74,185, $94,767)</td>\n",
       "      <td>2024-2025</td>\n",
       "    </tr>\n",
       "    <tr>\n",
       "      <th>577</th>\n",
       "      <td>Edoardo Piana</td>\n",
       "      <td>NaN</td>\n",
       "      <td>GK</td>\n",
       "      <td>Udinese</td>\n",
       "      <td>20</td>\n",
       "      <td>€ 1,346 (£ 1,110, $1,417)</td>\n",
       "      <td>€ 70,000 (£ 57,699, $73,707)</td>\n",
       "      <td>2024-2025</td>\n",
       "    </tr>\n",
       "    <tr>\n",
       "      <th>578</th>\n",
       "      <td>Giuseppe Ciocci</td>\n",
       "      <td>it ITA</td>\n",
       "      <td>GK</td>\n",
       "      <td>Cagliari</td>\n",
       "      <td>22</td>\n",
       "      <td>€ 1,346 (£ 1,110, $1,417)</td>\n",
       "      <td>€ 70,000 (£ 57,699, $73,707)</td>\n",
       "      <td>2024-2025</td>\n",
       "    </tr>\n",
       "    <tr>\n",
       "      <th>579</th>\n",
       "      <td>Þórir Jóhann Helgason</td>\n",
       "      <td>is ISL</td>\n",
       "      <td>MF,FW</td>\n",
       "      <td>Lecce</td>\n",
       "      <td>23</td>\n",
       "      <td>€ 1,154 (£ 951, $1,215)</td>\n",
       "      <td>€ 60,000 (£ 49,457, $63,178)</td>\n",
       "      <td>2024-2025</td>\n",
       "    </tr>\n",
       "    <tr>\n",
       "      <th>580</th>\n",
       "      <td>Paul Pogba</td>\n",
       "      <td>fr FRA</td>\n",
       "      <td>CM</td>\n",
       "      <td>Juventus</td>\n",
       "      <td>31</td>\n",
       "      <td>€ 808 (£ 666, $850)</td>\n",
       "      <td>€ 42,000 (£ 34,620, $44,224)</td>\n",
       "      <td>2024-2025</td>\n",
       "    </tr>\n",
       "  </tbody>\n",
       "</table>\n",
       "<p>2963 rows × 8 columns</p>\n",
       "</div>"
      ],
      "text/plain": [
       "                    Player  Nation    Pos     Squad  Age  \\\n",
       "0        Cristiano Ronaldo  pt POR     FW  Juventus   35   \n",
       "1               Edin Džeko  ba BIH     FW      Roma   34   \n",
       "2             Paulo Dybala  ar ARG     FW  Juventus   26   \n",
       "3         Leonardo Bonucci  it ITA     DF  Juventus   33   \n",
       "4        Wojciech Szczęsny  pl POL     GK  Juventus   30   \n",
       "..                     ...     ...    ...       ...  ...   \n",
       "576             Dario Daka     NaN     RW     Lecce   20   \n",
       "577          Edoardo Piana     NaN     GK   Udinese   20   \n",
       "578        Giuseppe Ciocci  it ITA     GK  Cagliari   22   \n",
       "579  Þórir Jóhann Helgason  is ISL  MF,FW     Lecce   23   \n",
       "580             Paul Pogba  fr FRA     CM  Juventus   31   \n",
       "\n",
       "                            Weekly Wages  \\\n",
       "0    € 1,104,038 (£ 925,746, $1,125,139)   \n",
       "1        € 267,115 (£ 223,978, $272,220)   \n",
       "2        € 260,000 (£ 218,012, $264,969)   \n",
       "3        € 231,538 (£ 194,147, $235,964)   \n",
       "4        € 231,538 (£ 194,147, $235,964)   \n",
       "..                                   ...   \n",
       "576            € 1,731 (£ 1,427, $1,822)   \n",
       "577            € 1,346 (£ 1,110, $1,417)   \n",
       "578            € 1,346 (£ 1,110, $1,417)   \n",
       "579              € 1,154 (£ 951, $1,215)   \n",
       "580                  € 808 (£ 666, $850)   \n",
       "\n",
       "                                 Annual Wages     Season  \n",
       "0    € 57,410,000 (£ 48,138,766, $58,507,203)  2020-2021  \n",
       "1    € 13,890,000 (£ 11,646,881, $14,155,462)  2020-2021  \n",
       "2    € 13,520,000 (£ 11,336,633, $13,778,390)  2020-2021  \n",
       "3    € 12,040,000 (£ 10,095,641, $12,270,105)  2020-2021  \n",
       "4    € 12,040,000 (£ 10,095,641, $12,270,105)  2020-2021  \n",
       "..                                        ...        ...  \n",
       "576              € 90,000 (£ 74,185, $94,767)  2024-2025  \n",
       "577              € 70,000 (£ 57,699, $73,707)  2024-2025  \n",
       "578              € 70,000 (£ 57,699, $73,707)  2024-2025  \n",
       "579              € 60,000 (£ 49,457, $63,178)  2024-2025  \n",
       "580              € 42,000 (£ 34,620, $44,224)  2024-2025  \n",
       "\n",
       "[2963 rows x 8 columns]"
      ]
     },
     "execution_count": 48,
     "metadata": {},
     "output_type": "execute_result"
    }
   ],
   "source": [
    "df"
   ]
  },
  {
   "cell_type": "markdown",
   "metadata": {},
   "source": [
    "Storing"
   ]
  },
  {
   "cell_type": "code",
   "execution_count": 65,
   "metadata": {},
   "outputs": [],
   "source": [
    "df.to_csv('df_to_use.csv', index=None)"
   ]
  },
  {
   "cell_type": "markdown",
   "metadata": {},
   "source": [
    "Look for null values"
   ]
  },
  {
   "cell_type": "code",
   "execution_count": 42,
   "metadata": {},
   "outputs": [
    {
     "data": {
      "text/plain": [
       "Player            0\n",
       "Nation          254\n",
       "Pos               0\n",
       "Squad             0\n",
       "Age               0\n",
       "Weekly Wages      0\n",
       "Annual Wages      0\n",
       "Season            0\n",
       "dtype: int64"
      ]
     },
     "execution_count": 42,
     "metadata": {},
     "output_type": "execute_result"
    }
   ],
   "source": [
    "df.isna().sum()"
   ]
  },
  {
   "cell_type": "markdown",
   "metadata": {},
   "source": [
    "Keeping only not null values"
   ]
  },
  {
   "cell_type": "code",
   "execution_count": 49,
   "metadata": {},
   "outputs": [],
   "source": [
    "df_notna = df[df.Nation.notna()]"
   ]
  },
  {
   "cell_type": "markdown",
   "metadata": {},
   "source": [
    "Creating squad-season column"
   ]
  },
  {
   "cell_type": "code",
   "execution_count": null,
   "metadata": {},
   "outputs": [],
   "source": [
    "df_notna['Squad-Season'] = df_notna.Squad + ' ' + df_notna.Season"
   ]
  },
  {
   "cell_type": "markdown",
   "metadata": {},
   "source": [
    "\"Cleaning\" Nation Column"
   ]
  },
  {
   "cell_type": "code",
   "execution_count": null,
   "metadata": {},
   "outputs": [],
   "source": [
    "df_notna['Nation'] = df_notna.Nation.str.split(' ').apply(lambda x: x[-1])"
   ]
  },
  {
   "cell_type": "code",
   "execution_count": 56,
   "metadata": {},
   "outputs": [
    {
     "data": {
      "text/html": [
       "<div>\n",
       "<style scoped>\n",
       "    .dataframe tbody tr th:only-of-type {\n",
       "        vertical-align: middle;\n",
       "    }\n",
       "\n",
       "    .dataframe tbody tr th {\n",
       "        vertical-align: top;\n",
       "    }\n",
       "\n",
       "    .dataframe thead th {\n",
       "        text-align: right;\n",
       "    }\n",
       "</style>\n",
       "<table border=\"1\" class=\"dataframe\">\n",
       "  <thead>\n",
       "    <tr style=\"text-align: right;\">\n",
       "      <th></th>\n",
       "      <th>Player</th>\n",
       "      <th>Nation</th>\n",
       "      <th>Pos</th>\n",
       "      <th>Squad</th>\n",
       "      <th>Age</th>\n",
       "      <th>Weekly Wages</th>\n",
       "      <th>Annual Wages</th>\n",
       "      <th>Season</th>\n",
       "      <th>Squad-Season</th>\n",
       "    </tr>\n",
       "  </thead>\n",
       "  <tbody>\n",
       "    <tr>\n",
       "      <th>0</th>\n",
       "      <td>Cristiano Ronaldo</td>\n",
       "      <td>POR</td>\n",
       "      <td>FW</td>\n",
       "      <td>Juventus</td>\n",
       "      <td>35</td>\n",
       "      <td>€ 1,104,038 (£ 925,746, $1,125,139)</td>\n",
       "      <td>€ 57,410,000 (£ 48,138,766, $58,507,203)</td>\n",
       "      <td>2020-2021</td>\n",
       "      <td>Juventus 2020-2021</td>\n",
       "    </tr>\n",
       "    <tr>\n",
       "      <th>1</th>\n",
       "      <td>Edin Džeko</td>\n",
       "      <td>BIH</td>\n",
       "      <td>FW</td>\n",
       "      <td>Roma</td>\n",
       "      <td>34</td>\n",
       "      <td>€ 267,115 (£ 223,978, $272,220)</td>\n",
       "      <td>€ 13,890,000 (£ 11,646,881, $14,155,462)</td>\n",
       "      <td>2020-2021</td>\n",
       "      <td>Roma 2020-2021</td>\n",
       "    </tr>\n",
       "    <tr>\n",
       "      <th>2</th>\n",
       "      <td>Paulo Dybala</td>\n",
       "      <td>ARG</td>\n",
       "      <td>FW</td>\n",
       "      <td>Juventus</td>\n",
       "      <td>26</td>\n",
       "      <td>€ 260,000 (£ 218,012, $264,969)</td>\n",
       "      <td>€ 13,520,000 (£ 11,336,633, $13,778,390)</td>\n",
       "      <td>2020-2021</td>\n",
       "      <td>Juventus 2020-2021</td>\n",
       "    </tr>\n",
       "    <tr>\n",
       "      <th>3</th>\n",
       "      <td>Leonardo Bonucci</td>\n",
       "      <td>ITA</td>\n",
       "      <td>DF</td>\n",
       "      <td>Juventus</td>\n",
       "      <td>33</td>\n",
       "      <td>€ 231,538 (£ 194,147, $235,964)</td>\n",
       "      <td>€ 12,040,000 (£ 10,095,641, $12,270,105)</td>\n",
       "      <td>2020-2021</td>\n",
       "      <td>Juventus 2020-2021</td>\n",
       "    </tr>\n",
       "    <tr>\n",
       "      <th>4</th>\n",
       "      <td>Wojciech Szczęsny</td>\n",
       "      <td>POL</td>\n",
       "      <td>GK</td>\n",
       "      <td>Juventus</td>\n",
       "      <td>30</td>\n",
       "      <td>€ 231,538 (£ 194,147, $235,964)</td>\n",
       "      <td>€ 12,040,000 (£ 10,095,641, $12,270,105)</td>\n",
       "      <td>2020-2021</td>\n",
       "      <td>Juventus 2020-2021</td>\n",
       "    </tr>\n",
       "    <tr>\n",
       "      <th>...</th>\n",
       "      <td>...</td>\n",
       "      <td>...</td>\n",
       "      <td>...</td>\n",
       "      <td>...</td>\n",
       "      <td>...</td>\n",
       "      <td>...</td>\n",
       "      <td>...</td>\n",
       "      <td>...</td>\n",
       "      <td>...</td>\n",
       "    </tr>\n",
       "    <tr>\n",
       "      <th>570</th>\n",
       "      <td>Jasper Samooja</td>\n",
       "      <td>FIN</td>\n",
       "      <td>GK</td>\n",
       "      <td>Lecce</td>\n",
       "      <td>21</td>\n",
       "      <td>€ 2,308 (£ 1,902, $2,430)</td>\n",
       "      <td>€ 120,000 (£ 98,913, $126,355)</td>\n",
       "      <td>2024-2025</td>\n",
       "      <td>Lecce 2024-2025</td>\n",
       "    </tr>\n",
       "    <tr>\n",
       "      <th>573</th>\n",
       "      <td>Alessio Furlanetto</td>\n",
       "      <td>ITA</td>\n",
       "      <td>GK</td>\n",
       "      <td>Lazio</td>\n",
       "      <td>22</td>\n",
       "      <td>€ 2,115 (£ 1,744, $2,227)</td>\n",
       "      <td>€ 110,000 (£ 90,671, $115,826)</td>\n",
       "      <td>2024-2025</td>\n",
       "      <td>Lazio 2024-2025</td>\n",
       "    </tr>\n",
       "    <tr>\n",
       "      <th>578</th>\n",
       "      <td>Giuseppe Ciocci</td>\n",
       "      <td>ITA</td>\n",
       "      <td>GK</td>\n",
       "      <td>Cagliari</td>\n",
       "      <td>22</td>\n",
       "      <td>€ 1,346 (£ 1,110, $1,417)</td>\n",
       "      <td>€ 70,000 (£ 57,699, $73,707)</td>\n",
       "      <td>2024-2025</td>\n",
       "      <td>Cagliari 2024-2025</td>\n",
       "    </tr>\n",
       "    <tr>\n",
       "      <th>579</th>\n",
       "      <td>Þórir Jóhann Helgason</td>\n",
       "      <td>ISL</td>\n",
       "      <td>MF,FW</td>\n",
       "      <td>Lecce</td>\n",
       "      <td>23</td>\n",
       "      <td>€ 1,154 (£ 951, $1,215)</td>\n",
       "      <td>€ 60,000 (£ 49,457, $63,178)</td>\n",
       "      <td>2024-2025</td>\n",
       "      <td>Lecce 2024-2025</td>\n",
       "    </tr>\n",
       "    <tr>\n",
       "      <th>580</th>\n",
       "      <td>Paul Pogba</td>\n",
       "      <td>FRA</td>\n",
       "      <td>CM</td>\n",
       "      <td>Juventus</td>\n",
       "      <td>31</td>\n",
       "      <td>€ 808 (£ 666, $850)</td>\n",
       "      <td>€ 42,000 (£ 34,620, $44,224)</td>\n",
       "      <td>2024-2025</td>\n",
       "      <td>Juventus 2024-2025</td>\n",
       "    </tr>\n",
       "  </tbody>\n",
       "</table>\n",
       "<p>2709 rows × 9 columns</p>\n",
       "</div>"
      ],
      "text/plain": [
       "                    Player Nation    Pos     Squad  Age  \\\n",
       "0        Cristiano Ronaldo    POR     FW  Juventus   35   \n",
       "1               Edin Džeko    BIH     FW      Roma   34   \n",
       "2             Paulo Dybala    ARG     FW  Juventus   26   \n",
       "3         Leonardo Bonucci    ITA     DF  Juventus   33   \n",
       "4        Wojciech Szczęsny    POL     GK  Juventus   30   \n",
       "..                     ...    ...    ...       ...  ...   \n",
       "570         Jasper Samooja    FIN     GK     Lecce   21   \n",
       "573     Alessio Furlanetto    ITA     GK     Lazio   22   \n",
       "578        Giuseppe Ciocci    ITA     GK  Cagliari   22   \n",
       "579  Þórir Jóhann Helgason    ISL  MF,FW     Lecce   23   \n",
       "580             Paul Pogba    FRA     CM  Juventus   31   \n",
       "\n",
       "                            Weekly Wages  \\\n",
       "0    € 1,104,038 (£ 925,746, $1,125,139)   \n",
       "1        € 267,115 (£ 223,978, $272,220)   \n",
       "2        € 260,000 (£ 218,012, $264,969)   \n",
       "3        € 231,538 (£ 194,147, $235,964)   \n",
       "4        € 231,538 (£ 194,147, $235,964)   \n",
       "..                                   ...   \n",
       "570            € 2,308 (£ 1,902, $2,430)   \n",
       "573            € 2,115 (£ 1,744, $2,227)   \n",
       "578            € 1,346 (£ 1,110, $1,417)   \n",
       "579              € 1,154 (£ 951, $1,215)   \n",
       "580                  € 808 (£ 666, $850)   \n",
       "\n",
       "                                 Annual Wages     Season        Squad-Season  \n",
       "0    € 57,410,000 (£ 48,138,766, $58,507,203)  2020-2021  Juventus 2020-2021  \n",
       "1    € 13,890,000 (£ 11,646,881, $14,155,462)  2020-2021      Roma 2020-2021  \n",
       "2    € 13,520,000 (£ 11,336,633, $13,778,390)  2020-2021  Juventus 2020-2021  \n",
       "3    € 12,040,000 (£ 10,095,641, $12,270,105)  2020-2021  Juventus 2020-2021  \n",
       "4    € 12,040,000 (£ 10,095,641, $12,270,105)  2020-2021  Juventus 2020-2021  \n",
       "..                                        ...        ...                 ...  \n",
       "570            € 120,000 (£ 98,913, $126,355)  2024-2025     Lecce 2024-2025  \n",
       "573            € 110,000 (£ 90,671, $115,826)  2024-2025     Lazio 2024-2025  \n",
       "578              € 70,000 (£ 57,699, $73,707)  2024-2025  Cagliari 2024-2025  \n",
       "579              € 60,000 (£ 49,457, $63,178)  2024-2025     Lecce 2024-2025  \n",
       "580              € 42,000 (£ 34,620, $44,224)  2024-2025  Juventus 2024-2025  \n",
       "\n",
       "[2709 rows x 9 columns]"
      ]
     },
     "execution_count": 56,
     "metadata": {},
     "output_type": "execute_result"
    }
   ],
   "source": [
    "df_notna"
   ]
  },
  {
   "cell_type": "code",
   "execution_count": 61,
   "metadata": {},
   "outputs": [],
   "source": [
    "df_notna['Pos_list'] = df_notna.Pos.str.split(',')"
   ]
  },
  {
   "cell_type": "code",
   "execution_count": 66,
   "metadata": {},
   "outputs": [],
   "source": [
    "df_notna_exp = df_notna.explode('Pos_list').rename(columns={'Pos_list':'Position'})"
   ]
  },
  {
   "cell_type": "markdown",
   "metadata": {},
   "source": [
    "Storing"
   ]
  },
  {
   "cell_type": "code",
   "execution_count": 67,
   "metadata": {},
   "outputs": [],
   "source": [
    "df_notna_exp.to_csv('df_exploded.csv', index=None)"
   ]
  },
  {
   "cell_type": "markdown",
   "metadata": {},
   "source": [
    "# Import Preparation\n",
    "\n",
    "To import data with the data importer, different datasets are needed:  \n",
    "\n",
    "1. Players  \n",
    "2. Teams for each season  \n",
    "3. Positions  \n",
    "4. Nations  \n",
    "5. Relationships"
   ]
  },
  {
   "cell_type": "code",
   "execution_count": 13,
   "metadata": {},
   "outputs": [],
   "source": [
    "df_notna_exp = pd.read_csv('./Datasets/df_exploded.csv')"
   ]
  },
  {
   "cell_type": "markdown",
   "metadata": {},
   "source": [
    "### Players"
   ]
  },
  {
   "cell_type": "code",
   "execution_count": 73,
   "metadata": {},
   "outputs": [],
   "source": [
    "players = df_notna_exp.drop_duplicates('Player', keep='last')[['Player']]"
   ]
  },
  {
   "cell_type": "code",
   "execution_count": 81,
   "metadata": {},
   "outputs": [],
   "source": [
    "players['PlayerId'] = np.arange(1, players.shape[0]+1)"
   ]
  },
  {
   "cell_type": "code",
   "execution_count": 82,
   "metadata": {},
   "outputs": [
    {
     "data": {
      "text/html": [
       "<div>\n",
       "<style scoped>\n",
       "    .dataframe tbody tr th:only-of-type {\n",
       "        vertical-align: middle;\n",
       "    }\n",
       "\n",
       "    .dataframe tbody tr th {\n",
       "        vertical-align: top;\n",
       "    }\n",
       "\n",
       "    .dataframe thead th {\n",
       "        text-align: right;\n",
       "    }\n",
       "</style>\n",
       "<table border=\"1\" class=\"dataframe\">\n",
       "  <thead>\n",
       "    <tr style=\"text-align: right;\">\n",
       "      <th></th>\n",
       "      <th>Player</th>\n",
       "      <th>PlayerId</th>\n",
       "    </tr>\n",
       "  </thead>\n",
       "  <tbody>\n",
       "    <tr>\n",
       "      <th>0</th>\n",
       "      <td>Cristiano Ronaldo</td>\n",
       "      <td>1</td>\n",
       "    </tr>\n",
       "    <tr>\n",
       "      <th>6</th>\n",
       "      <td>Gianluigi Donnarumma</td>\n",
       "      <td>2</td>\n",
       "    </tr>\n",
       "    <tr>\n",
       "      <th>8</th>\n",
       "      <td>Sami Khedira</td>\n",
       "      <td>3</td>\n",
       "    </tr>\n",
       "    <tr>\n",
       "      <th>20</th>\n",
       "      <td>Radja Nainggolan</td>\n",
       "      <td>4</td>\n",
       "    </tr>\n",
       "    <tr>\n",
       "      <th>21</th>\n",
       "      <td>Javier Pastore</td>\n",
       "      <td>5</td>\n",
       "    </tr>\n",
       "    <tr>\n",
       "      <th>...</th>\n",
       "      <td>...</td>\n",
       "      <td>...</td>\n",
       "    </tr>\n",
       "    <tr>\n",
       "      <th>570</th>\n",
       "      <td>Jasper Samooja</td>\n",
       "      <td>1173</td>\n",
       "    </tr>\n",
       "    <tr>\n",
       "      <th>573</th>\n",
       "      <td>Alessio Furlanetto</td>\n",
       "      <td>1174</td>\n",
       "    </tr>\n",
       "    <tr>\n",
       "      <th>578</th>\n",
       "      <td>Giuseppe Ciocci</td>\n",
       "      <td>1175</td>\n",
       "    </tr>\n",
       "    <tr>\n",
       "      <th>579</th>\n",
       "      <td>Þórir Jóhann Helgason</td>\n",
       "      <td>1176</td>\n",
       "    </tr>\n",
       "    <tr>\n",
       "      <th>580</th>\n",
       "      <td>Paul Pogba</td>\n",
       "      <td>1177</td>\n",
       "    </tr>\n",
       "  </tbody>\n",
       "</table>\n",
       "<p>1177 rows × 2 columns</p>\n",
       "</div>"
      ],
      "text/plain": [
       "                    Player  PlayerId\n",
       "0        Cristiano Ronaldo         1\n",
       "6     Gianluigi Donnarumma         2\n",
       "8             Sami Khedira         3\n",
       "20        Radja Nainggolan         4\n",
       "21          Javier Pastore         5\n",
       "..                     ...       ...\n",
       "570         Jasper Samooja      1173\n",
       "573     Alessio Furlanetto      1174\n",
       "578        Giuseppe Ciocci      1175\n",
       "579  Þórir Jóhann Helgason      1176\n",
       "580             Paul Pogba      1177\n",
       "\n",
       "[1177 rows x 2 columns]"
      ]
     },
     "execution_count": 82,
     "metadata": {},
     "output_type": "execute_result"
    }
   ],
   "source": [
    "players"
   ]
  },
  {
   "cell_type": "markdown",
   "metadata": {},
   "source": [
    "Storing"
   ]
  },
  {
   "cell_type": "code",
   "execution_count": 83,
   "metadata": {},
   "outputs": [],
   "source": [
    "players.to_csv('./Datasets/players.csv', index=None)"
   ]
  },
  {
   "cell_type": "markdown",
   "metadata": {},
   "source": [
    "### Squads   \n",
    "\n",
    "I will create a separate CSV for each squad each season. The number of teams in each file should be 20."
   ]
  },
  {
   "cell_type": "code",
   "execution_count": 29,
   "metadata": {},
   "outputs": [],
   "source": [
    "for s in seasons:\n",
    "    season_df = df_notna_exp[df_notna_exp.Season == s][['Squad']].drop_duplicates('Squad', keep='first')\n",
    "    season_df[f'TeamSeasonId{s}'] = np.arange(1,season_df.shape[0]+1)\n",
    "    season_df.to_csv(f\"./Datasets/df_season_{s}.csv\", index=None)"
   ]
  },
  {
   "cell_type": "markdown",
   "metadata": {},
   "source": [
    "### Nations"
   ]
  },
  {
   "cell_type": "code",
   "execution_count": 19,
   "metadata": {},
   "outputs": [],
   "source": [
    "nations = df_notna_exp.drop_duplicates('Nation', keep='first')[['Nation']]\n",
    "nations['NationId'] = np.arange(1, nations.shape[0]+1)"
   ]
  },
  {
   "cell_type": "markdown",
   "metadata": {},
   "source": [
    "Storing"
   ]
  },
  {
   "cell_type": "code",
   "execution_count": 21,
   "metadata": {},
   "outputs": [],
   "source": [
    "nations.to_csv('./Datasets/nations.csv', index=None)"
   ]
  },
  {
   "cell_type": "markdown",
   "metadata": {},
   "source": [
    "### Positions"
   ]
  },
  {
   "cell_type": "code",
   "execution_count": 26,
   "metadata": {},
   "outputs": [],
   "source": [
    "positions = df_notna_exp.drop_duplicates('Position', keep='first')[['Position']]\n",
    "positions['PositionId'] = np.arange(1, positions.shape[0]+1)"
   ]
  },
  {
   "cell_type": "code",
   "execution_count": 28,
   "metadata": {},
   "outputs": [],
   "source": [
    "positions.to_csv('./Datasets/positions.csv', index=None)"
   ]
  },
  {
   "cell_type": "markdown",
   "metadata": {},
   "source": [
    "### Relationships  \n",
    "\n",
    "1. Relationship with a team for each season  \n",
    "2. Relationship with nation  \n",
    "3. Relationship with position"
   ]
  },
  {
   "cell_type": "markdown",
   "metadata": {},
   "source": [
    "Team relationships will be created by filtering each season and finding the players for each team"
   ]
  },
  {
   "cell_type": "code",
   "execution_count": 35,
   "metadata": {},
   "outputs": [],
   "source": [
    "players = pd.read_csv('./Datasets/players.csv')\n",
    "teams_2020_2021 = pd.read_csv('./Datasets/df_season_2020-2021.csv')"
   ]
  },
  {
   "cell_type": "code",
   "execution_count": 41,
   "metadata": {},
   "outputs": [
    {
     "data": {
      "text/html": [
       "<div>\n",
       "<style scoped>\n",
       "    .dataframe tbody tr th:only-of-type {\n",
       "        vertical-align: middle;\n",
       "    }\n",
       "\n",
       "    .dataframe tbody tr th {\n",
       "        vertical-align: top;\n",
       "    }\n",
       "\n",
       "    .dataframe thead th {\n",
       "        text-align: right;\n",
       "    }\n",
       "</style>\n",
       "<table border=\"1\" class=\"dataframe\">\n",
       "  <thead>\n",
       "    <tr style=\"text-align: right;\">\n",
       "      <th></th>\n",
       "      <th>PlayerId</th>\n",
       "      <th>TeamSeasonId2020-2021</th>\n",
       "    </tr>\n",
       "  </thead>\n",
       "  <tbody>\n",
       "    <tr>\n",
       "      <th>0</th>\n",
       "      <td>1</td>\n",
       "      <td>1</td>\n",
       "    </tr>\n",
       "    <tr>\n",
       "      <th>1</th>\n",
       "      <td>328</td>\n",
       "      <td>2</td>\n",
       "    </tr>\n",
       "    <tr>\n",
       "      <th>2</th>\n",
       "      <td>724</td>\n",
       "      <td>1</td>\n",
       "    </tr>\n",
       "    <tr>\n",
       "      <th>3</th>\n",
       "      <td>542</td>\n",
       "      <td>1</td>\n",
       "    </tr>\n",
       "    <tr>\n",
       "      <th>4</th>\n",
       "      <td>524</td>\n",
       "      <td>1</td>\n",
       "    </tr>\n",
       "    <tr>\n",
       "      <th>...</th>\n",
       "      <td>...</td>\n",
       "      <td>...</td>\n",
       "    </tr>\n",
       "    <tr>\n",
       "      <th>736</th>\n",
       "      <td>1013</td>\n",
       "      <td>11</td>\n",
       "    </tr>\n",
       "    <tr>\n",
       "      <th>737</th>\n",
       "      <td>185</td>\n",
       "      <td>2</td>\n",
       "    </tr>\n",
       "    <tr>\n",
       "      <th>738</th>\n",
       "      <td>1057</td>\n",
       "      <td>16</td>\n",
       "    </tr>\n",
       "    <tr>\n",
       "      <th>739</th>\n",
       "      <td>186</td>\n",
       "      <td>16</td>\n",
       "    </tr>\n",
       "    <tr>\n",
       "      <th>740</th>\n",
       "      <td>187</td>\n",
       "      <td>16</td>\n",
       "    </tr>\n",
       "  </tbody>\n",
       "</table>\n",
       "<p>741 rows × 2 columns</p>\n",
       "</div>"
      ],
      "text/plain": [
       "     PlayerId  TeamSeasonId2020-2021\n",
       "0           1                      1\n",
       "1         328                      2\n",
       "2         724                      1\n",
       "3         542                      1\n",
       "4         524                      1\n",
       "..        ...                    ...\n",
       "736      1013                     11\n",
       "737       185                      2\n",
       "738      1057                     16\n",
       "739       186                     16\n",
       "740       187                     16\n",
       "\n",
       "[741 rows x 2 columns]"
      ]
     },
     "execution_count": 41,
     "metadata": {},
     "output_type": "execute_result"
    }
   ],
   "source": [
    "df_notna_exp[df_notna_exp.Season == '2020-2021'][['Player', 'Squad']].merge(players, on='Player').merge(teams_2020_2021, on='Squad')[['PlayerId', 'TeamSeasonId2020-2021']]"
   ]
  },
  {
   "cell_type": "code",
   "execution_count": 9,
   "metadata": {},
   "outputs": [],
   "source": [
    "# Creating a function\n",
    "\n",
    "def team_player_relationship(season: str):\n",
    "    teams_season = pd.read_csv(f\"./Datasets/df_season_{season}.csv\")\n",
    "    final_df = df_notna_exp[df_notna_exp.Season == season][['Player', 'Squad']].merge(players, on='Player').merge(teams_season, on='Squad')[\n",
    "        ['PlayerId', f'TeamSeasonId{season}']].drop_duplicates(['PlayerId', f'TeamSeasonId{season}'])\n",
    "    return final_df.to_csv(f\"./Datasets/team_players_relationship_{season}.csv\", index=None)"
   ]
  },
  {
   "cell_type": "code",
   "execution_count": 14,
   "metadata": {},
   "outputs": [],
   "source": [
    "for s in seasons:\n",
    "    team_player_relationship(s)"
   ]
  },
  {
   "cell_type": "markdown",
   "metadata": {},
   "source": [
    "Nations"
   ]
  },
  {
   "cell_type": "code",
   "execution_count": 54,
   "metadata": {},
   "outputs": [],
   "source": [
    "player_nation_rel = df_notna_exp[['Player', 'Nation']].merge(players, on='Player').drop_duplicates(['Player', 'Nation'], keep='first').merge(\n",
    "    nations, on='Nation'\n",
    ")[['PlayerId', 'NationId']]"
   ]
  },
  {
   "cell_type": "markdown",
   "metadata": {},
   "source": [
    "Storing"
   ]
  },
  {
   "cell_type": "code",
   "execution_count": 55,
   "metadata": {},
   "outputs": [],
   "source": [
    "player_nation_rel.to_csv('./Datasets/player_nation_rel.csv', index=None)"
   ]
  },
  {
   "cell_type": "markdown",
   "metadata": {},
   "source": [
    "Positions"
   ]
  },
  {
   "cell_type": "code",
   "execution_count": 60,
   "metadata": {},
   "outputs": [],
   "source": [
    "player_pos_rel = df_notna_exp[['Player', 'Position']].merge(players, on='Player').merge(positions, on='Position')[['PlayerId', 'PositionId']]"
   ]
  },
  {
   "cell_type": "code",
   "execution_count": 61,
   "metadata": {},
   "outputs": [],
   "source": [
    "player_pos_rel.to_csv('./Datasets/player_pos_rel.csv', index=None)"
   ]
  },
  {
   "cell_type": "markdown",
   "metadata": {},
   "source": [
    "Check"
   ]
  },
  {
   "cell_type": "code",
   "execution_count": 20,
   "metadata": {},
   "outputs": [],
   "source": [
    "players = pd.read_csv('Datasets/players.csv')\n",
    "team_players_2020_2021 = pd.read_csv('./Datasets/team_players_relationship_2020-2021.csv')\n",
    "teams_2020_2021 = pd.read_csv('Datasets/df_season_2020-2021.csv')"
   ]
  }
 ],
 "metadata": {
  "kernelspec": {
   "display_name": "Python 3",
   "language": "python",
   "name": "python3"
  },
  "language_info": {
   "codemirror_mode": {
    "name": "ipython",
    "version": 3
   },
   "file_extension": ".py",
   "mimetype": "text/x-python",
   "name": "python",
   "nbconvert_exporter": "python",
   "pygments_lexer": "ipython3",
   "version": "3.10.2"
  }
 },
 "nbformat": 4,
 "nbformat_minor": 2
}
